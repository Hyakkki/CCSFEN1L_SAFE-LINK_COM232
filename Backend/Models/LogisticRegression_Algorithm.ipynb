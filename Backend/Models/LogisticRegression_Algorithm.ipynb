{
 "cells": [
  {
   "cell_type": "markdown",
   "id": "a800ee3e",
   "metadata": {},
   "source": [
    "# SafeLink: URL Safety Classifier using Logistic Regression\n",
    "\n",
    "This notebook trains a machine learning model to classify URLs as safe or malicious using various URL features extracted from the dataset."
   ]
  },
  {
   "cell_type": "code",
   "execution_count": 35,
   "id": "b15f8dab",
   "metadata": {},
   "outputs": [
    {
     "name": "stdout",
     "output_type": "stream",
     "text": [
      "✅ All libraries imported successfully!\n",
      "📊 Ready to start ML model training...\n"
     ]
    }
   ],
   "source": [
    "# Import necessary libraries\n",
    "import pandas as pd\n",
    "import numpy as np\n",
    "import matplotlib.pyplot as plt\n",
    "import seaborn as sns\n",
    "from sklearn.model_selection import train_test_split\n",
    "from sklearn.preprocessing import StandardScaler, LabelEncoder\n",
    "from sklearn.linear_model import LogisticRegression\n",
    "from sklearn.metrics import accuracy_score, classification_report, confusion_matrix\n",
    "import joblib\n",
    "import warnings\n",
    "warnings.filterwarnings('ignore')\n",
    "\n",
    "print(\"✅ All libraries imported successfully!\")\n",
    "print(\"📊 Ready to start ML model training...\")"
   ]
  },
  {
   "cell_type": "code",
   "execution_count": 36,
   "id": "4fdb0391",
   "metadata": {
    "id": "TjGEsHxLWl58"
   },
   "outputs": [],
   "source": [
    "df = pd.read_excel(\"../1000_dataset.xlsx\")"
   ]
  },
  {
   "cell_type": "code",
   "execution_count": 37,
   "id": "951f7221",
   "metadata": {},
   "outputs": [
    {
     "name": "stdout",
     "output_type": "stream",
     "text": [
      "Sample data from dataset:\n",
      "                                                 URL Label\n",
      "0  http://serverfault.com/questions/682832/squid-...  safe\n",
      "1  https://twitter.com/home?status=%E3%83%8C%E3%8...  safe\n",
      "2  https://medium.com/human-parts/the-laziest-com...  safe\n",
      "3  https://hollywoodlife.com/2015/05/14/new-york-...  safe\n",
      "4  https://paytm.com/blog/vijay-shekahr-sharma-on...  safe\n",
      "5  https://twitter.com/share?text=%D0%A4%D0%BE%D1...  safe\n",
      "6  https://ifttt.com/recipes/156570-if-i-mark-a-v...  safe\n",
      "7  https://medium.com/@djpizzo/such-an-amazing-fi...  safe\n",
      "8  https://www.gov.uk/government/publications/how...  safe\n",
      "9  https://twitter.com/home?status=%E3%83%8C%E3%8...  safe\n",
      "\n",
      "Label distribution:\n",
      "Label\n",
      "safe      1000\n",
      "unsafe    1000\n",
      "Name: count, dtype: int64\n"
     ]
    }
   ],
   "source": [
    "# Check some sample URLs and their labels\n",
    "print(\"Sample data from dataset:\")\n",
    "print(df[['URL', 'Label']].head(10))\n",
    "print(\"\\nLabel distribution:\")\n",
    "print(df['Label'].value_counts())"
   ]
  },
  {
   "cell_type": "code",
   "execution_count": 38,
   "id": "3e0f40b9",
   "metadata": {
    "id": "kRTuhSitWpbQ"
   },
   "outputs": [],
   "source": [
    "# Create separate label encoders for different columns\n",
    "label_encoder = LabelEncoder()\n",
    "protocol_encoder = LabelEncoder()\n",
    "isip_encoder = LabelEncoder()\n",
    "\n",
    "# Encode Label column (safe/unsafe -> 0/1)\n",
    "df['Label'] = label_encoder.fit_transform(df['Label'])\n",
    "\n",
    "# Encode Protocol column (http/https -> 0/1)  \n",
    "df['Protocol'] = protocol_encoder.fit_transform(df['Protocol'])\n",
    "\n",
    "# Encode IsIP column (True/False -> 0/1)\n",
    "df['IsIP'] = isip_encoder.fit_transform(df['IsIP'])"
   ]
  },
  {
   "cell_type": "code",
   "execution_count": 39,
   "id": "d0ab0450",
   "metadata": {},
   "outputs": [
    {
     "name": "stdout",
     "output_type": "stream",
     "text": [
      "Label encoder classes: ['safe' 'unsafe']\n",
      "Original -> Encoded:\n",
      "'safe' -> 0\n",
      "'unsafe' -> 1\n",
      "\n",
      "Sample after encoding:\n",
      "   Label\n",
      "0      0\n",
      "1      0\n",
      "2      0\n",
      "3      0\n",
      "4      0\n",
      "5      0\n",
      "6      0\n",
      "7      0\n",
      "8      0\n",
      "9      0\n"
     ]
    }
   ],
   "source": [
    "# Check label encoding mapping\n",
    "print(\"Label encoder classes:\", label_encoder.classes_)\n",
    "print(\"Original -> Encoded:\")\n",
    "for i, label in enumerate(label_encoder.classes_):\n",
    "    print(f\"'{label}' -> {i}\")\n",
    "\n",
    "print(\"\\nSample after encoding:\")\n",
    "print(df[['Label']].head(10))"
   ]
  },
  {
   "cell_type": "code",
   "execution_count": 40,
   "id": "4cbd8525",
   "metadata": {},
   "outputs": [
    {
     "name": "stdout",
     "output_type": "stream",
     "text": [
      "📊 Dataset loaded for ML training:\n",
      "Shape: (2000, 20)\n",
      "Columns: ['URL', 'Label', 'Protocol', 'DomainLength', 'URLLength', 'Subdomains', 'SpecialCharCount', 'IsIP', 'TLD_.com', 'TLD_.org', 'TLD_.net', 'TLD_.edu', 'TLD_.gov', 'TLD_.xyz', 'TLD_.top', 'TLD_.ru', 'TLD_.cn', 'TLD_.zip', 'TLD_.info', 'BrandKeywords']\n",
      "\n",
      "First few rows:\n",
      "                                                 URL Label Protocol  \\\n",
      "0  http://serverfault.com/questions/682832/squid-...  safe     http   \n",
      "1  https://twitter.com/home?status=%E3%83%8C%E3%8...  safe    https   \n",
      "2  https://medium.com/human-parts/the-laziest-com...  safe    https   \n",
      "3  https://hollywoodlife.com/2015/05/14/new-york-...  safe    https   \n",
      "4  https://paytm.com/blog/vijay-shekahr-sharma-on...  safe    https   \n",
      "\n",
      "   DomainLength  URLLength  Subdomains  SpecialCharCount   IsIP  TLD_.com  \\\n",
      "0            15        107           1                 9  False         1   \n",
      "1            11        200           1                47  False         1   \n",
      "2            10        113           1                13  False         1   \n",
      "3            17        108           1                10  False         1   \n",
      "4             9        100           1                10  False         1   \n",
      "\n",
      "   TLD_.org  TLD_.net  TLD_.edu  TLD_.gov  TLD_.xyz  TLD_.top  TLD_.ru  \\\n",
      "0         0         0         0         0         0         0        0   \n",
      "1         0         0         0         0         0         0        0   \n",
      "2         0         0         0         0         0         0        0   \n",
      "3         0         0         0         0         0         0        0   \n",
      "4         0         0         0         0         0         0        0   \n",
      "\n",
      "   TLD_.cn  TLD_.zip  TLD_.info  BrandKeywords  \n",
      "0        0         0          0              0  \n",
      "1        0         0          0              0  \n",
      "2        0         0          0              0  \n",
      "3        0         0          0              0  \n",
      "4        0         0          0              0  \n",
      "\n",
      "Feature columns: ['Protocol', 'DomainLength', 'URLLength', 'Subdomains', 'SpecialCharCount', 'IsIP', 'TLD_.com', 'TLD_.org', 'TLD_.net', 'TLD_.edu', 'TLD_.gov', 'TLD_.xyz', 'TLD_.top', 'TLD_.ru', 'TLD_.cn', 'TLD_.zip', 'TLD_.info', 'BrandKeywords']\n",
      "Using 'Label' as target column\n",
      "\n",
      "X shape: (2000, 18)\n",
      "y shape: (2000,)\n",
      "Target distribution:\n",
      "Label\n",
      "safe      1000\n",
      "unsafe    1000\n",
      "Name: count, dtype: int64\n"
     ]
    }
   ],
   "source": [
    "# Load the fresh dataset to prepare features and target\n",
    "df_fresh = pd.read_excel(\"../1000_dataset.xlsx\")\n",
    "\n",
    "print(\"📊 Dataset loaded for ML training:\")\n",
    "print(f\"Shape: {df_fresh.shape}\")\n",
    "print(f\"Columns: {list(df_fresh.columns)}\")\n",
    "\n",
    "# Check for the correct column names in your dataset\n",
    "print(\"\\nFirst few rows:\")\n",
    "print(df_fresh.head())\n",
    "\n",
    "# Prepare features (X) and target (y) - excluding URL and Label columns\n",
    "feature_columns = [col for col in df_fresh.columns if col not in ['URL', 'Label', 'url', 'class']]\n",
    "print(f\"\\nFeature columns: {feature_columns}\")\n",
    "\n",
    "# Try different possible target column names\n",
    "target_column = None\n",
    "for possible_target in ['Label', 'class', 'target']:\n",
    "    if possible_target in df_fresh.columns:\n",
    "        target_column = possible_target\n",
    "        print(f\"Using '{target_column}' as target column\")\n",
    "        break\n",
    "\n",
    "if target_column is None:\n",
    "    print(\"❌ No target column found! Please check your dataset.\")\n",
    "else:\n",
    "    x_fresh = df_fresh[feature_columns]\n",
    "    y_fresh = df_fresh[target_column]\n",
    "    \n",
    "    print(f\"\\nX shape: {x_fresh.shape}\")\n",
    "    print(f\"y shape: {y_fresh.shape}\")\n",
    "    print(f\"Target distribution:\\n{y_fresh.value_counts()}\")"
   ]
  },
  {
   "cell_type": "code",
   "execution_count": 41,
   "id": "d944a837",
   "metadata": {},
   "outputs": [
    {
     "name": "stdout",
     "output_type": "stream",
     "text": [
      "Domain: img11.360buyimg.com\n",
      "Domain parts: ['img11', '360buyimg', 'com']\n",
      "Number of parts: 3\n",
      "Our subdomain calc: 1\n",
      "Dataset says subdomains: 2\n",
      "Possible calculation: Count all dots in domain: 2\n",
      "Or count all parts - 1: 2\n",
      "\n",
      "✅ URL analysis completed (Entropy feature removed from dataset)\n",
      "🎯 Dataset now has 18 features instead of 19\n"
     ]
    }
   ],
   "source": [
    "# Let's manually calculate subdomains for the test URL to understand the calculation\n",
    "test_url = \"http://img11.360buyimg.com/n1/g15/M06/1C/0E/rBEhWlKsAtcIAAAAAAEXoVmdgEEAAGwvwHTepEAARe5034.jpg\"\n",
    "from urllib.parse import urlparse\n",
    "import math\n",
    "from collections import Counter\n",
    "\n",
    "parsed = urlparse(test_url)\n",
    "domain = parsed.netloc\n",
    "print(f\"Domain: {domain}\")\n",
    "print(f\"Domain parts: {domain.split('.')}\")\n",
    "print(f\"Number of parts: {len(domain.split('.'))}\")\n",
    "print(f\"Our subdomain calc: {max(0, len(domain.split('.')) - 2)}\")\n",
    "\n",
    "# Test different subdomain calculations\n",
    "print(f\"Dataset says subdomains: 2\")\n",
    "print(\"Possible calculation: Count all dots in domain:\", domain.count('.'))\n",
    "print(\"Or count all parts - 1:\", len(domain.split('.')) - 1)\n",
    "\n",
    "print(f\"\\n✅ URL analysis completed (Entropy feature removed from dataset)\")\n",
    "print(f\"🎯 Dataset now has 18 features instead of 19\")"
   ]
  },
  {
   "cell_type": "code",
   "execution_count": 42,
   "id": "a38b7060",
   "metadata": {
    "colab": {
     "base_uri": "https://localhost:8080/",
     "height": 871
    },
    "id": "pVJRgRG-WqnY",
    "outputId": "87f70c4d-7294-4738-f757-565396e34d5d"
   },
   "outputs": [
    {
     "data": {
      "text/plain": [
       "Text(0.5, 1.0, \"['Special Character Count and Label']\")"
      ]
     },
     "execution_count": 42,
     "metadata": {},
     "output_type": "execute_result"
    },
    {
     "data": {
      "image/png": "[encoded data removed]",
      "text/plain": [
       "<Figure size 1000x1000 with 4 Axes>"
      ]
     },
     "metadata": {},
     "output_type": "display_data"
    }
   ],
   "source": [
    "fig, ax = plt.subplots(2, 2, figsize=(10, 10))\n",
    "ax[0, 0].scatter(df[\"Protocol\"], df[\"Label\"])\n",
    "ax[0, 1].scatter(df[\"DomainLength\"], df[\"Label\"])\n",
    "ax[1, 0].scatter(df[\"URLLength\"], df[\"Label\"])\n",
    "ax[1, 1].scatter(df[\"SpecialCharCount\"], df[\"Label\"])\n",
    "ax[0, 0].set_title([\"Protocol and Label\"])\n",
    "ax[0, 1].set_title([\"Domain Length and Label\"])\n",
    "ax[1, 0].set_title([\"URL Length and Label\"])\n",
    "ax[1, 1].set_title([\"Special Character Count and Label\"])"
   ]
  },
  {
   "cell_type": "code",
   "execution_count": 43,
   "id": "7c53ee39",
   "metadata": {
    "id": "Vmx3n6RaWs7T"
   },
   "outputs": [
    {
     "name": "stdout",
     "output_type": "stream",
     "text": [
      "✅ Entropy column already removed from dataset\n",
      "📊 Dataset now contains 18 features (without entropy)\n"
     ]
    }
   ],
   "source": [
    "# Entropy column has been removed from the dataset\n",
    "# No need to drop it anymore since it's not in the Excel file\n",
    "print(\"✅ Entropy column already removed from dataset\")\n",
    "print(\"📊 Dataset now contains 18 features (without entropy)\")"
   ]
  },
  {
   "cell_type": "code",
   "execution_count": 44,
   "id": "fccb7b69",
   "metadata": {},
   "outputs": [
    {
     "name": "stdout",
     "output_type": "stream",
     "text": [
      "Data types in x_fresh:\n",
      "Protocol            object\n",
      "DomainLength         int64\n",
      "URLLength            int64\n",
      "Subdomains           int64\n",
      "SpecialCharCount     int64\n",
      "IsIP                  bool\n",
      "TLD_.com             int64\n",
      "TLD_.org             int64\n",
      "TLD_.net             int64\n",
      "TLD_.edu             int64\n",
      "TLD_.gov             int64\n",
      "TLD_.xyz             int64\n",
      "TLD_.top             int64\n",
      "TLD_.ru              int64\n",
      "TLD_.cn              int64\n",
      "TLD_.zip             int64\n",
      "TLD_.info            int64\n",
      "BrandKeywords        int64\n",
      "dtype: object\n",
      "\n",
      "First few rows of x_fresh:\n",
      "  Protocol  DomainLength  URLLength  Subdomains  SpecialCharCount   IsIP  \\\n",
      "0     http            15        107           1                 9  False   \n",
      "1    https            11        200           1                47  False   \n",
      "2    https            10        113           1                13  False   \n",
      "3    https            17        108           1                10  False   \n",
      "4    https             9        100           1                10  False   \n",
      "\n",
      "   TLD_.com  TLD_.org  TLD_.net  TLD_.edu  TLD_.gov  TLD_.xyz  TLD_.top  \\\n",
      "0         1         0         0         0         0         0         0   \n",
      "1         1         0         0         0         0         0         0   \n",
      "2         1         0         0         0         0         0         0   \n",
      "3         1         0         0         0         0         0         0   \n",
      "4         1         0         0         0         0         0         0   \n",
      "\n",
      "   TLD_.ru  TLD_.cn  TLD_.zip  TLD_.info  BrandKeywords  \n",
      "0        0        0         0          0              0  \n",
      "1        0        0         0          0              0  \n",
      "2        0        0         0          0              0  \n",
      "3        0        0         0          0              0  \n",
      "4        0        0         0          0              0  \n",
      "\n",
      "Check for any non-numeric data:\n",
      "Column Protocol has non-numeric data:\n",
      "0     http\n",
      "1    https\n",
      "2    https\n",
      "3    https\n",
      "4    https\n",
      "Name: Protocol, dtype: object\n",
      "\n",
      "✅ Data type check completed!\n"
     ]
    }
   ],
   "source": [
    "# Check the data types and content before scaling\n",
    "print(\"Data types in x_fresh:\")\n",
    "print(x_fresh.dtypes)\n",
    "print(\"\\nFirst few rows of x_fresh:\")\n",
    "print(x_fresh.head())\n",
    "print(\"\\nCheck for any non-numeric data:\")\n",
    "for col in x_fresh.columns:\n",
    "    non_numeric = x_fresh[col].apply(lambda x: not isinstance(x, (int, float, bool, np.integer, np.floating)))\n",
    "    if non_numeric.any():\n",
    "        print(f\"Column {col} has non-numeric data:\")\n",
    "        print(x_fresh[col][non_numeric].head())\n",
    "        \n",
    "print(\"\\n✅ Data type check completed!\")"
   ]
  },
  {
   "cell_type": "code",
   "execution_count": 45,
   "id": "e711b9cf",
   "metadata": {},
   "outputs": [
    {
     "name": "stdout",
     "output_type": "stream",
     "text": [
      "🔧 Preparing data for ML training...\n",
      "Checking for non-numeric columns...\n",
      "Found non-numeric column: Protocol\n",
      "✅ Encoded column 'Protocol'\n",
      "✅ Data split completed:\n",
      "Training set: (1600, 18)\n",
      "Test set: (400, 18)\n",
      "✅ Feature scaling completed!\n",
      "✅ Model training completed!\n",
      "🎯 Accuracy: 0.7850 (78.50%)\n",
      "\n",
      "📋 Classification Report:\n",
      "              precision    recall  f1-score   support\n",
      "\n",
      "        safe       0.75      0.84      0.80       200\n",
      "      unsafe       0.82      0.72      0.77       200\n",
      "\n",
      "    accuracy                           0.79       400\n",
      "   macro avg       0.79      0.78      0.78       400\n",
      "weighted avg       0.79      0.79      0.78       400\n",
      "\n"
     ]
    }
   ],
   "source": [
    "# Prepare data for training - handle non-numeric values\n",
    "print(\"🔧 Preparing data for ML training...\")\n",
    "\n",
    "# Check for non-numeric columns in x_fresh and encode them\n",
    "print(\"Checking for non-numeric columns...\")\n",
    "non_numeric_cols = []\n",
    "for col in x_fresh.columns:\n",
    "    if x_fresh[col].dtype == 'object':\n",
    "        non_numeric_cols.append(col)\n",
    "        print(f\"Found non-numeric column: {col}\")\n",
    "\n",
    "# Create a copy for processing\n",
    "x_processed = x_fresh.copy()\n",
    "\n",
    "# Encode any non-numeric columns\n",
    "if non_numeric_cols:\n",
    "    for col in non_numeric_cols:\n",
    "        if col not in ['URL', 'url']:  # Skip URL columns\n",
    "            le = LabelEncoder()\n",
    "            x_processed[col] = le.fit_transform(x_processed[col].astype(str))\n",
    "            print(f\"✅ Encoded column '{col}'\")\n",
    "\n",
    "# Train-test split with processed data\n",
    "x_train_fresh, x_test_fresh, y_train_fresh, y_test_fresh = train_test_split(\n",
    "    x_processed, y_fresh, test_size=0.2, random_state=42, stratify=y_fresh)\n",
    "\n",
    "print(f\"✅ Data split completed:\")\n",
    "print(f\"Training set: {x_train_fresh.shape}\")\n",
    "print(f\"Test set: {x_test_fresh.shape}\")\n",
    "\n",
    "# Scale features (now all numeric)\n",
    "scaler_fresh = StandardScaler()\n",
    "x_train_scaled = scaler_fresh.fit_transform(x_train_fresh)\n",
    "x_test_scaled = scaler_fresh.transform(x_test_fresh)\n",
    "\n",
    "print(\"✅ Feature scaling completed!\")\n",
    "\n",
    "# Train model\n",
    "log_reg_fresh = LogisticRegression(max_iter=5000, solver='saga', random_state=42)\n",
    "log_reg_fresh.fit(x_train_scaled, y_train_fresh)\n",
    "\n",
    "print(\"✅ Model training completed!\")\n",
    "\n",
    "# Make predictions\n",
    "y_pred_fresh = log_reg_fresh.predict(x_test_scaled)\n",
    "\n",
    "# Evaluate\n",
    "accuracy = accuracy_score(y_test_fresh, y_pred_fresh)\n",
    "print(f\"🎯 Accuracy: {accuracy:.4f} ({accuracy*100:.2f}%)\")\n",
    "print(\"\\n📋 Classification Report:\")\n",
    "print(classification_report(y_test_fresh, y_pred_fresh))"
   ]
  },
  {
   "cell_type": "code",
   "execution_count": 46,
   "id": "c258416a",
   "metadata": {},
   "outputs": [
    {
     "name": "stdout",
     "output_type": "stream",
     "text": [
      "✅ Entropy feature already removed from dataset!\n",
      "📊 Current dataset shape: (2000, 18)\n",
      "📋 Features in dataset: ['Protocol', 'DomainLength', 'URLLength', 'Subdomains', 'SpecialCharCount', 'IsIP', 'TLD_.com', 'TLD_.org', 'TLD_.net', 'TLD_.edu', 'TLD_.gov', 'TLD_.xyz', 'TLD_.top', 'TLD_.ru', 'TLD_.cn', 'TLD_.zip', 'TLD_.info', 'BrandKeywords']\n",
      "✅ Confirmed: Entropy feature not in dataset\n",
      "\n",
      "🎯 The model will be trained with 18 features (entropy-free)\n",
      "� This matches the feature extraction in the Scanner module\n"
     ]
    }
   ],
   "source": [
    "# Since entropy has been removed from the dataset, we can proceed with the standard training\n",
    "# No need for a separate \"without entropy\" model since entropy is already removed\n",
    "\n",
    "print(\"✅ Entropy feature already removed from dataset!\")\n",
    "print(f\"📊 Current dataset shape: {x_processed.shape}\")\n",
    "print(f\"📋 Features in dataset: {list(x_processed.columns)}\")\n",
    "\n",
    "# Verify that entropy is not in the dataset\n",
    "if 'Entropy' in x_processed.columns:\n",
    "    print(\"⚠️ Entropy still found in dataset - this shouldn't happen\")\n",
    "else:\n",
    "    print(\"✅ Confirmed: Entropy feature not in dataset\")\n",
    "\n",
    "print(\"\\n🎯 The model will be trained with 18 features (entropy-free)\")\n",
    "print(\"� This matches the feature extraction in the Scanner module\")"
   ]
  },
  {
   "cell_type": "code",
   "execution_count": 47,
   "id": "6cb9543f",
   "metadata": {},
   "outputs": [
    {
     "name": "stdout",
     "output_type": "stream",
     "text": [
      "🔧 Setting up variables for training pipeline...\n",
      "📊 Feature matrix shape: (2000, 18)\n",
      "🎯 Target vector shape: (2000,)\n",
      "✅ Using existing label encoder\n",
      "✅ Data split completed:\n",
      "Training set: (1600, 18)\n",
      "Testing set: (400, 18)\n",
      "✅ Variables prepared for training!\n",
      "🎯 Final feature count: 18 (matches Scanner extraction)\n",
      "Feature names: ['Protocol', 'DomainLength', 'URLLength', 'Subdomains', 'SpecialCharCount', 'IsIP', 'TLD_.com', 'TLD_.org', 'TLD_.net', 'TLD_.edu', 'TLD_.gov', 'TLD_.xyz', 'TLD_.top', 'TLD_.ru', 'TLD_.cn', 'TLD_.zip', 'TLD_.info', 'BrandKeywords']\n"
     ]
    }
   ],
   "source": [
    "# Set up the basic variables for the rest of the notebook\n",
    "print(\"🔧 Setting up variables for training pipeline...\")\n",
    "\n",
    "# Use the entropy-free processed data\n",
    "x = x_processed_final.copy()  # Use the processed features (18 features, no entropy)\n",
    "y = y_fresh.copy()  # Target variable\n",
    "\n",
    "print(f\"📊 Feature matrix shape: {x.shape}\")\n",
    "print(f\"🎯 Target vector shape: {y.shape}\")\n",
    "\n",
    "# Encode target labels if they're strings\n",
    "if y.dtype == 'object':\n",
    "    # Use the existing label_encoder or create a new one\n",
    "    if 'label_encoder' in globals():\n",
    "        y_encoded = label_encoder.fit_transform(y)\n",
    "        print(f\"✅ Using existing label encoder\")\n",
    "    else:\n",
    "        new_label_encoder = LabelEncoder()\n",
    "        y_encoded = new_label_encoder.fit_transform(y)\n",
    "        print(f\"Labels encoded: {dict(zip(new_label_encoder.classes_, range(len(new_label_encoder.classes_))))}\")\n",
    "else:\n",
    "    y_encoded = y.copy()\n",
    "\n",
    "# Split the data\n",
    "x_train, x_test, y_train, y_test = train_test_split(x, y_encoded, test_size=0.2, random_state=42, stratify=y_encoded)\n",
    "\n",
    "print(f\"✅ Data split completed:\")\n",
    "print(f\"Training set: {x_train.shape}\")\n",
    "print(f\"Testing set: {x_test.shape}\")\n",
    "\n",
    "# Initialize the model variable for later use\n",
    "log_reg = LogisticRegression(max_iter=5000, solver='saga', random_state=42)\n",
    "\n",
    "print(\"✅ Variables prepared for training!\")\n",
    "print(f\"🎯 Final feature count: {x_train.shape[1]} (matches Scanner extraction)\")\n",
    "print(f\"Feature names: {list(x.columns)}\")"
   ]
  },
  {
   "cell_type": "code",
   "execution_count": 48,
   "id": "ff74b78b",
   "metadata": {},
   "outputs": [
    {
     "name": "stdout",
     "output_type": "stream",
     "text": [
      "🔍 Checking features in processed dataset:\n",
      "x_processed columns: ['Protocol', 'DomainLength', 'URLLength', 'Subdomains', 'SpecialCharCount', 'IsIP', 'TLD_.com', 'TLD_.org', 'TLD_.net', 'TLD_.edu', 'TLD_.gov', 'TLD_.xyz', 'TLD_.top', 'TLD_.ru', 'TLD_.cn', 'TLD_.zip', 'TLD_.info', 'BrandKeywords']\n",
      "Current feature count: 18\n",
      "✅ Entropy column already removed from dataset\n"
     ]
    }
   ],
   "source": [
    "# Check which features are in the processed dataset\n",
    "print(\"🔍 Checking features in processed dataset:\")\n",
    "print(f\"x_processed columns: {list(x_processed.columns)}\")\n",
    "print(f\"Current feature count: {len(x_processed.columns)}\")\n",
    "\n",
    "# Remove the Entropy column since you removed it from the Excel file\n",
    "if 'Entropy' in x_processed.columns:\n",
    "    print(\"🗑️ Removing Entropy column...\")\n",
    "    x_processed_final = x_processed.drop(['Entropy'], axis=1)\n",
    "    print(f\"✅ Features after entropy removal: {len(x_processed_final.columns)}\")\n",
    "    print(f\"Final columns: {list(x_processed_final.columns)}\")\n",
    "elif 'entropy' in x_processed.columns:\n",
    "    print(\"🗑️ Removing entropy column...\")\n",
    "    x_processed_final = x_processed.drop(['entropy'], axis=1)\n",
    "    print(f\"✅ Features after entropy removal: {len(x_processed_final.columns)}\")\n",
    "    print(f\"Final columns: {list(x_processed_final.columns)}\")\n",
    "else:\n",
    "    print(\"✅ Entropy column already removed from dataset\")\n",
    "    x_processed_final = x_processed.copy()"
   ]
  },
  {
   "cell_type": "code",
   "execution_count": 49,
   "id": "cd0595a9",
   "metadata": {},
   "outputs": [
    {
     "name": "stdout",
     "output_type": "stream",
     "text": [
      "🤖 Preparing for model training...\n",
      "Data preparation check:\n",
      "X data types: int64    17\n",
      "bool      1\n",
      "Name: count, dtype: int64\n",
      "Any missing values: 0\n",
      "✅ All columns are numeric!\n",
      "✅ Ready for scaling and training!\n"
     ]
    }
   ],
   "source": [
    "# Train the model with scaled features\n",
    "print(\"🤖 Preparing for model training...\")\n",
    "\n",
    "# Check data types and handle any issues\n",
    "print(\"Data preparation check:\")\n",
    "print(f\"X data types: {x_train.dtypes.value_counts()}\")\n",
    "print(f\"Any missing values: {x_train.isnull().sum().sum()}\")\n",
    "\n",
    "# Fill any missing values if they exist\n",
    "if x_train.isnull().sum().sum() > 0:\n",
    "    x_train = x_train.fillna(0)\n",
    "    x_test = x_test.fillna(0)\n",
    "    print(\"✅ Missing values filled with 0\")\n",
    "\n",
    "# Check for any remaining non-numeric data\n",
    "numeric_check = True\n",
    "for col in x_train.columns:\n",
    "    if x_train[col].dtype == 'object':\n",
    "        print(f\"⚠️ Column {col} is still non-numeric: {x_train[col].dtype}\")\n",
    "        numeric_check = False\n",
    "\n",
    "if numeric_check:\n",
    "    print(\"✅ All columns are numeric!\")\n",
    "else:\n",
    "    print(\"⚠️ Some columns are still non-numeric - may need additional encoding\")\n",
    "\n",
    "print(\"✅ Ready for scaling and training!\")"
   ]
  },
  {
   "cell_type": "code",
   "execution_count": 50,
   "id": "1867ba24",
   "metadata": {
    "id": "1DX_ImfOWwOZ"
   },
   "outputs": [],
   "source": [
    "scaler = StandardScaler()\n",
    "x_train = scaler.fit_transform(x_train)\n",
    "x_test = scaler.transform(x_test)"
   ]
  },
  {
   "cell_type": "code",
   "execution_count": 51,
   "id": "a7bf725e",
   "metadata": {},
   "outputs": [
    {
     "name": "stdout",
     "output_type": "stream",
     "text": [
      "🤖 Training logistic regression model...\n",
      "✅ Model training completed!\n",
      "✅ Predictions generated!\n",
      "🎯 Model Accuracy: 0.7850 (78.50%)\n",
      "\n",
      "📋 Classification Report:\n",
      "              precision    recall  f1-score   support\n",
      "\n",
      "           0       0.75      0.84      0.80       200\n",
      "           1       0.82      0.72      0.77       200\n",
      "\n",
      "    accuracy                           0.79       400\n",
      "   macro avg       0.79      0.78      0.78       400\n",
      "weighted avg       0.79      0.79      0.78       400\n",
      "\n"
     ]
    }
   ],
   "source": [
    "# Train the model with scaled data\n",
    "print(\"🤖 Training logistic regression model...\")\n",
    "log_reg.fit(x_train, y_train)\n",
    "\n",
    "# Make predictions\n",
    "y_pred = log_reg.predict(x_test)\n",
    "y_pred_proba = log_reg.predict_proba(x_test)\n",
    "\n",
    "print(\"✅ Model training completed!\")\n",
    "print(\"✅ Predictions generated!\")\n",
    "\n",
    "# Calculate accuracy\n",
    "accuracy = accuracy_score(y_test, y_pred)\n",
    "print(f\"🎯 Model Accuracy: {accuracy:.4f} ({accuracy*100:.2f}%)\")\n",
    "\n",
    "# Detailed classification report\n",
    "print(\"\\n📋 Classification Report:\")\n",
    "print(classification_report(y_test, y_pred))"
   ]
  },
  {
   "cell_type": "code",
   "execution_count": 52,
   "id": "d00e216f",
   "metadata": {
    "colab": {
     "base_uri": "https://localhost:8080/"
    },
    "id": "fJa2X4HKWydy",
    "outputId": "57a7245d-8712-41d7-bbbc-b3354a2bc2ef"
   },
   "outputs": [
    {
     "name": "stdout",
     "output_type": "stream",
     "text": [
      "Final Model Performance:\n",
      "Accuracy: 0.7850 (78.50%)\n"
     ]
    }
   ],
   "source": [
    "# Display final accuracy (correct parameter order)\n",
    "print(\"Final Model Performance:\")\n",
    "print(f\"Accuracy: {accuracy_score(y_test, y_pred):.4f} ({accuracy_score(y_test, y_pred)*100:.2f}%)\")"
   ]
  },
  {
   "cell_type": "code",
   "execution_count": 53,
   "id": "05f5def2",
   "metadata": {},
   "outputs": [
    {
     "name": "stdout",
     "output_type": "stream",
     "text": [
      "💾 Saving trained model and preprocessing components...\n",
      "✅ Model saved: logistic_model.pkl\n",
      "✅ Scaler saved: scaler.pkl\n",
      "✅ Label encoder saved: label_encoder.pkl\n",
      "\n",
      "🎉 All components saved successfully!\n",
      "Files saved in Models folder:\n",
      "- logistic_model.pkl\n",
      "- scaler.pkl\n",
      "- label_encoder.pkl\n",
      "\n",
      "📊 Final Model Summary:\n",
      "Model type: LogisticRegression\n",
      "Features: 18\n",
      "Training samples: 1600\n",
      "Test accuracy: 0.7850\n",
      "Feature names: ['Protocol', 'DomainLength', 'URLLength', 'Subdomains', 'SpecialCharCount', 'IsIP', 'TLD_.com', 'TLD_.org', 'TLD_.net', 'TLD_.edu', 'TLD_.gov', 'TLD_.xyz', 'TLD_.top', 'TLD_.ru', 'TLD_.cn', 'TLD_.zip', 'TLD_.info', 'BrandKeywords']\n"
     ]
    }
   ],
   "source": [
    "# Save the trained model and scaler for use in Flask API\n",
    "import joblib\n",
    "import os\n",
    "\n",
    "print(\"💾 Saving trained model and preprocessing components...\")\n",
    "\n",
    "try:\n",
    "    # Save the model and scaler in current directory (Models folder)\n",
    "    joblib.dump(log_reg, 'logistic_model.pkl')\n",
    "    print(\"✅ Model saved: logistic_model.pkl\")\n",
    "    \n",
    "    joblib.dump(scaler, 'scaler.pkl')\n",
    "    print(\"✅ Scaler saved: scaler.pkl\")\n",
    "    \n",
    "    joblib.dump(label_encoder, 'label_encoder.pkl')\n",
    "    print(\"✅ Label encoder saved: label_encoder.pkl\")\n",
    "    \n",
    "    print(\"\\n🎉 All components saved successfully!\")\n",
    "    print(\"Files saved in Models folder:\")\n",
    "    print(\"- logistic_model.pkl\")\n",
    "    print(\"- scaler.pkl\") \n",
    "    print(\"- label_encoder.pkl\")\n",
    "    \n",
    "    print(f\"\\n📊 Final Model Summary:\")\n",
    "    print(f\"Model type: {type(log_reg).__name__}\")\n",
    "    print(f\"Features: {x_train.shape[1]}\")  # Use shape instead of columns for numpy array\n",
    "    print(f\"Training samples: {x_train.shape[0]}\")  # Use shape[0] for number of rows\n",
    "    print(f\"Test accuracy: {accuracy_score(y_test, y_pred):.4f}\")\n",
    "    print(f\"Feature names: {list(x.columns)}\")  # Use original DataFrame x for column names\n",
    "    \n",
    "except Exception as e:\n",
    "    print(f\"❌ Error saving model: {e}\")\n",
    "    print(\"Make sure all required variables are defined (log_reg, scaler, label_encoder)\")"
   ]
  }
 ],
 "metadata": {
  "kernelspec": {
   "display_name": "Python 3",
   "language": "python",
   "name": "python3"
  },
  "language_info": {
   "codemirror_mode": {
    "name": "ipython",
    "version": 3
   },
   "file_extension": ".py",
   "mimetype": "text/x-python",
   "name": "python",
   "nbconvert_exporter": "python",
   "pygments_lexer": "ipython3",
   "version": "3.13.2"
  }
 },
 "nbformat": 4,
 "nbformat_minor": 5
}
